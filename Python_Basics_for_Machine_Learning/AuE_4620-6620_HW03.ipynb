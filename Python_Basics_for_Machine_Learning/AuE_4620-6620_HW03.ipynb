{
 "cells": [
  {
   "cell_type": "markdown",
   "metadata": {
    "id": "ud3RPxSvNhT0"
   },
   "source": [
    "# Assignment 03\n",
    "Welcome to your assignment Introduction to Python, Matrix Manipulations, and Probability Basics. Look for \"TODO\" inside the code block and complete the required exercises. Do not alter the code inside \"test code\". Make sure to add comments on what you are doing throughout the code.\n",
    "\n"
   ]
  },
  {
   "cell_type": "markdown",
   "metadata": {
    "id": "IJVRCU7_NhT4",
    "tags": []
   },
   "source": [
    "## 1. Python Basics Exercise\n",
    "Using the course provided in the syllabus or The \"Learn the basics\" and \"Data science tutorial\" sections from [Online Resource](https://www.learnpython.org/en/Welcome) to learn Python, you should complete the following exercise of each section in this jupyter notebook.\n"
   ]
  },
  {
   "cell_type": "markdown",
   "metadata": {
    "id": "sJjcS4CNncjj"
   },
   "source": [
    "### 1.1 Print function"
   ]
  },
  {
   "cell_type": "markdown",
   "metadata": {
    "id": "5-QL2QzWqa1b"
   },
   "source": [
    "Use the `print` function to print the following sentence \"I'm a student at CU.\""
   ]
  },
  {
   "cell_type": "code",
   "execution_count": 1,
   "metadata": {
    "id": "R8Qqa3LENhT5"
   },
   "outputs": [
    {
     "name": "stdout",
     "output_type": "stream",
     "text": [
      "I'm a student at CU.\n"
     ]
    }
   ],
   "source": [
    "# TODO: print out the line\n",
    "print(\"I'm a student at CU.\")"
   ]
  },
  {
   "cell_type": "markdown",
   "metadata": {
    "id": "7v1AI7y_NhT6"
   },
   "source": [
    "### 1.2 Variables and Types"
   ]
  },
  {
   "cell_type": "markdown",
   "metadata": {
    "id": "ISrFFYNmp6CW"
   },
   "source": [
    "The target of this exercise is to create a string, an integer, and a floating point number. The string should be named `mystring` and should contain the word \"hello\". The floating point number should be named `myfloat` and should contain the number 10.0, and the integer should be named `myint` and should contain the number 20."
   ]
  },
  {
   "cell_type": "code",
   "execution_count": 2,
   "metadata": {
    "id": "WLaqNik7NhT6"
   },
   "outputs": [
    {
     "name": "stdout",
     "output_type": "stream",
     "text": [
      "String: hello\n",
      "Float: 10.000000\n",
      "Integer: 20\n"
     ]
    }
   ],
   "source": [
    "# TODO: define your variables\n",
    "# Defining the variable name and it's value \n",
    "mystring = \"hello\"\n",
    "myfloat = 10.0\n",
    "myint = 20\n",
    "\n",
    "# test code\n",
    "if mystring == \"hello\":\n",
    "    print(\"String: %s\" % mystring)\n",
    "if isinstance(myfloat, float) and myfloat == 10.0:\n",
    "    print(\"Float: %f\" % myfloat)\n",
    "if isinstance(myint, int) and myint == 20:\n",
    "    print(\"Integer: %d\" % myint)"
   ]
  },
  {
   "cell_type": "markdown",
   "metadata": {
    "id": "2yXmGV1tNhT6"
   },
   "source": [
    "### 1.3 Lists"
   ]
  },
  {
   "cell_type": "markdown",
   "metadata": {
    "id": "P2CQlc6MqjeT"
   },
   "source": [
    "In this exercise, you will need to add numbers and strings to the correct lists using the \"append\" list method. You must add the numbers 1, 2, and 3 to the \"numbers\" list and the words 'hello' and 'world' to the strings variable.\n"
   ]
  },
  {
   "cell_type": "code",
   "execution_count": 4,
   "metadata": {
    "id": "b1rpPjEzNhT6"
   },
   "outputs": [
    {
     "name": "stdout",
     "output_type": "stream",
     "text": [
      "[1, 2, 3]\n",
      "['hello', 'world']\n",
      "The second name on the names list is Eric\n"
     ]
    }
   ],
   "source": [
    "numbers = []\n",
    "strings = []\n",
    "names = [\"John\", \"Eric\", \"Jessica\"]\n",
    "\n",
    "# TODO: add items to numbers and strings\n",
    "# Using append to add the numbers in the list named numbers\n",
    "numbers.append(1)\n",
    "numbers.append(2)\n",
    "numbers.append(3)\n",
    "# Using append to add the words in the list named strings\n",
    "strings.append(\"hello\")\n",
    "strings.append(\"world\")\n",
    "\n",
    "# TODO: get the second item of names\n",
    "# Extracting second element from list names\n",
    "second_name = names[1]\n",
    "\n",
    "\n",
    "# test code\n",
    "if all(i == j for i, j in zip(numbers, [1, 2, 3])):\n",
    "    print(numbers)\n",
    "if all(i == j for i, j in zip(strings, ['hello', 'world'])):\n",
    "    print(strings)\n",
    "if second_name == 'Eric':\n",
    "    print(\"The second name on the names list is %s\" % second_name)"
   ]
  },
  {
   "cell_type": "markdown",
   "metadata": {
    "id": "ia1O5I7gNhT7"
   },
   "source": [
    "### 1.4 Basic Operators"
   ]
  },
  {
   "cell_type": "markdown",
   "metadata": {
    "id": "CKTcqnPVr8sV"
   },
   "source": [
    "Create two lists called `x_list` and `y_list`, which contain 10 instances of the variables `x` and `y`, respectively. You are also required to create a list called `big_list`, which contains the variables `x` and `y`, 10 times each, by concatenating the two lists you have created."
   ]
  },
  {
   "cell_type": "code",
   "execution_count": 5,
   "metadata": {
    "id": "3X26vbLONhT7"
   },
   "outputs": [
    {
     "name": "stdout",
     "output_type": "stream",
     "text": [
      "x_list contains 10 objects\n",
      "y_list contains 10 objects\n",
      "big_list contains 20 objects\n",
      "Great!\n"
     ]
    }
   ],
   "source": [
    "x = object()\n",
    "y = object()\n",
    "\n",
    "# TODO: change this code\n",
    "# Multiplying x_list and y_list by 10 to add 10 instances of the variables x and y  \n",
    "x_list = [x] * 10\n",
    "y_list = [y] * 10\n",
    "# Concatenating both the lists\n",
    "big_list = x_list + y_list\n",
    "\n",
    "print(\"x_list contains %d objects\" % len(x_list))\n",
    "print(\"y_list contains %d objects\" % len(y_list))\n",
    "print(\"big_list contains %d objects\" % len(big_list))\n",
    "\n",
    "# test code\n",
    "if x_list.count(x) == 10 and y_list.count(y) == 10:\n",
    "    if big_list.count(x) == 10 and big_list.count(y) == 10:\n",
    "        print(\"Great!\")"
   ]
  },
  {
   "cell_type": "markdown",
   "metadata": {
    "id": "dO2LD2VGNhT7"
   },
   "source": [
    "### 1.5 String Formatting"
   ]
  },
  {
   "cell_type": "markdown",
   "metadata": {
    "id": "D-YvAGP0s7Qx"
   },
   "source": [
    "Write a format string which prints out the data using the following syntax: Hello John Doe. Your current balance is $53.44."
   ]
  },
  {
   "cell_type": "code",
   "execution_count": 7,
   "metadata": {
    "id": "PA0z7ckXNhT7"
   },
   "outputs": [
    {
     "name": "stdout",
     "output_type": "stream",
     "text": [
      "Hello John Doe. Your current balance is $53.44\n"
     ]
    }
   ],
   "source": [
    "data = (\"John\", \"Doe\", 53.4400)\n",
    "format_string = \"Hello %s %s. Your current balance is $%s\"\n",
    "\n",
    "# TODO: print out the data with required syntax \n",
    "print(format_string % data)"
   ]
  },
  {
   "cell_type": "markdown",
   "metadata": {
    "id": "bke9FyQcNhT7"
   },
   "source": [
    "### 1.6 Basic String Operations"
   ]
  },
  {
   "cell_type": "markdown",
   "metadata": {
    "id": "ywJsKFcctg0K"
   },
   "source": [
    "Try to fix the code to print out the correct information by changing the string."
   ]
  },
  {
   "cell_type": "code",
   "execution_count": 29,
   "metadata": {
    "id": "iftoUTAYNhT7"
   },
   "outputs": [
    {
     "name": "stdout",
     "output_type": "stream",
     "text": [
      "38\n",
      "13\n",
      "4\n",
      "Hey t\n",
      "g be?\n",
      "Hytee htsol hssrn e\n",
      "?eb gnirts siht dluohs tahw !ereht yeH\n",
      "HEY THERE! WHAT SHOULD THIS STRING BE?\n",
      "hey there! what should this string be?\n",
      "Hey\n",
      "be?\n",
      "['H', 'e', 'y', ' ', 't', 'h', 'e', 'r', 'e', '!', ' ', 'w', 'h', 'a', 't', ' ', 's', 'h', 'o', 'u', 'l', 'd', ' ', 't', 'h', 'i', 's', ' ', 's', 't', 'r', 'i', 'n', 'g', ' ', 'b', 'e', '?']\n",
      "['H', 'e', 'y', ' ', 't', 'h', 'e', 'r', 'e', '!', ' ', 'w', 'h', 'a', 't', ' ', 's', 'h', 'o', 'u', 'l', 'd', ' ', 't', 'h', 'i', 's', ' ', 's', 't', 'r', 'i', 'n', 'g', ' ', 'b', 'e', '?']\n"
     ]
    }
   ],
   "source": [
    "s = \"Hey there! what should this string be?\"\n",
    "\n",
    "# TODO: print out the length of s\n",
    "print(len(s))\n",
    "\n",
    "# TODO: print out the index of the letter a\n",
    "print(s.index('a'))\n",
    "\n",
    "# TODO: print out how many times that the letter e occurs in the string\n",
    "print(s.count('e'))\n",
    "\n",
    "# TODO: print out the first five characters of s\n",
    "print(s[:5])\n",
    "\n",
    "# TODO: print out the last five characters of s\n",
    "print(s[-5:])\n",
    "\n",
    "# TODO: print out the characters with even index\n",
    "print(s[::2])\n",
    "\n",
    "# TODO: reverse s and print it out\n",
    "print(s[::-1])\n",
    "\n",
    "# TODO: convert everything to uppercase and print it out\n",
    "print(s.upper())\n",
    "\n",
    "# TODO: convert everything to lowercase and print it out\n",
    "print(s.lower())\n",
    "\n",
    "# TODO: check if the string starts with \"Hey\"\n",
    "start = \"Hey\"\n",
    "if start == \"Hey\":\n",
    "    print(start)\n",
    "\n",
    "# TODO: check if the string ends with \"be?\"\n",
    "end = \"be?\"\n",
    "if end == \"be?\":\n",
    "    print(end)\n",
    "\n",
    "# TODO: split the string into several separate strings, each containing only a word\n",
    "def split(s):\n",
    "    return list(s)\n",
    "print(split(s))\n",
    "\n",
    "# OR\n",
    "\n",
    "def split(s):\n",
    "    return[char for char in s]\n",
    "print(split(s))"
   ]
  },
  {
   "cell_type": "markdown",
   "metadata": {
    "id": "o-pdRoNcxgtO",
    "tags": []
   },
   "source": [
    "### 1.7 Conditions"
   ]
  },
  {
   "cell_type": "markdown",
   "metadata": {},
   "source": [
    "# Change the conditional statement, so that each if statement resolves as True."
   ]
  },
  {
   "cell_type": "code",
   "execution_count": 44,
   "metadata": {
    "id": "s6tUgSW0xxDF"
   },
   "outputs": [
    {
     "name": "stdout",
     "output_type": "stream",
     "text": [
      "1\n",
      "2\n",
      "3\n",
      "4\n",
      "5\n",
      "6\n"
     ]
    }
   ],
   "source": [
    "# TODO: change this code\n",
    "number = 10\n",
    "second_number = 10\n",
    "first_array = []\n",
    "second_array = [1,2,3]\n",
    "\n",
    "# Changing the condional statement from greater than to less than \n",
    "if number < 15:\n",
    "    print(\"1\")\n",
    "\n",
    "# Changing the conditional statement to if condition not from if condition\n",
    "if not first_array:\n",
    "    print(\"2\")\n",
    "\n",
    "# Changing the conditional statement to greater than from less than\n",
    "if len(second_array) > 2:\n",
    "    print(\"3\")\n",
    "\n",
    "# Changing the conditional statement to less than from greater than\n",
    "if len(first_array) + len(second_array) < 5:\n",
    "    print(\"4\")\n",
    "\n",
    "# Changing the conditional statement to or not condition from and condition\n",
    "if not first_array or not first_array[0] == 1:\n",
    "    print(\"5\")\n",
    "\n",
    "# Changing the conditional statement to if condition from if not condition    \n",
    "if second_number:\n",
    "    print(\"6\")"
   ]
  },
  {
   "cell_type": "markdown",
   "metadata": {
    "id": "vLVr-ZiANhT7"
   },
   "source": [
    "### 1.8 Loops"
   ]
  },
  {
   "cell_type": "markdown",
   "metadata": {
    "id": "w9BQOn4kyLjW"
   },
   "source": [
    "Loop through and print out all even numbers from the numbers list in the same order they are received. Don't print any numbers that come after `237` in the sequence."
   ]
  },
  {
   "cell_type": "code",
   "execution_count": 112,
   "metadata": {
    "id": "qYWR1GkQNhT8"
   },
   "outputs": [
    {
     "name": "stdout",
     "output_type": "stream",
     "text": [
      "[402, 984, 360, 408, 980, 544, 390, 984, 592, 236, 942, 386, 462, 418, 344, 236, 566, 978, 328, 162, 758, 918]\n",
      "Great\n"
     ]
    }
   ],
   "source": [
    "numbers = [\n",
    "    951, 402, 984, 651, 360, 69, 408, 319, 601, 485, 980, 507, 725, 547, 544,\n",
    "    615, 83, 165, 141, 501, 263, 617, 865, 575, 219, 390, 984, 592, 236, 105,\n",
    "    942, 941, 386, 462, 47, 418, 907, 344, 236, 375, 823, 566, 597, 978, 328, \n",
    "    615, 953, 345, 399, 162, 758, 219, 918, 237, 412, 566, 826, 248, 866, 950, \n",
    "    626, 949, 687, 217, 815, 67, 104, 58, 512, 24, 892, 894, 767, 553, 81, 379, \n",
    "    843, 831, 445, 742, 717, 958, 609, 842, 451, 688, 753, 854, 685, 93, 857, \n",
    "    440, 380, 126, 721, 328, 753, 470, 743, 527\n",
    "]\n",
    "\n",
    "even_numbers = []\n",
    "# TODO: pick even numbers and save them to even_numbers\n",
    "for i in numbers:\n",
    "    if i == 237:                # To stop the loop right at 237\n",
    "        break                   # break is used to break the loop\n",
    "    if i % 2 == 0:              # To sort out all even numbers from the list\n",
    "        even_numbers.append(i)  # To add the even number into the list\n",
    "\n",
    "print(even_numbers)\n",
    "\n",
    "# test code\n",
    "result = [402, 984, 360, 408, 980, 544, 390, 984, 592, 236, 942, 386, 462, 418, \n",
    "          344, 236, 566, 978, 328, 162, 758, 918]\n",
    "if all(i == j for i, j in zip(even_numbers, result)):\n",
    "    print('Great')"
   ]
  },
  {
   "cell_type": "markdown",
   "metadata": {
    "id": "oguffFZ6NhT8"
   },
   "source": [
    "### 1.9 Functions"
   ]
  },
  {
   "cell_type": "markdown",
   "metadata": {
    "id": "ULbTxpm2yz_9"
   },
   "source": [
    "Add your own to the existing function so that you can create a fully functional program.\n",
    "\n",
    "1. Add a function named `list_benefits()` that returns the following list of strings: \"More organized code\", \"More readable code\", \"Easier code reuse\", \"Allowing programmers to share and connect code together\"\n",
    "\n",
    "2. Add a function named `build_sentence(info)` which receives a single argument containing a string and returns a sentence starting with the given string and ending with the string \" is a benefit of functions!\"\n",
    "\n",
    "3. Run and see all the functions work together!"
   ]
  },
  {
   "cell_type": "code",
   "execution_count": 82,
   "metadata": {
    "id": "mPAQU1fdNhT8"
   },
   "outputs": [
    {
     "name": "stdout",
     "output_type": "stream",
     "text": [
      "['More organized code', 'More readable code', 'Easier code reuse', 'Allowing programmers to share and connect code together']\n",
      "More organized code is a benefit of functions!\n",
      "More readable code is a benefit of functions!\n",
      "Easier code reuse is a benefit of functions!\n",
      "Allowing programmers to share and connect code together is a benefit of functions!\n"
     ]
    }
   ],
   "source": [
    "# TODO: modify this function to return a list of strings as defined above\n",
    "list_strings = [\"More organized code\", \"More readable code\", \"Easier code reuse\", \"Allowing programmers to share and connect code together\"]\n",
    "def list_benefits():\n",
    "    return list_strings  \n",
    "print(list_strings)\n",
    "# TODO: modify this function to concatenate to each benefit - \" is a benefit of functions!\"\n",
    "def build_sentence(benefit):\n",
    "    return f\"{benefit} is a benefit of functions!\"\n",
    "\n",
    "def name_the_benefits_of_functions():\n",
    "    list_of_benefits = list_benefits()\n",
    "    for benefit in list_of_benefits:\n",
    "        print(build_sentence(benefit))\n",
    "\n",
    "name_the_benefits_of_functions()"
   ]
  },
  {
   "cell_type": "markdown",
   "metadata": {
    "id": "QgRV1kDDNhT8"
   },
   "source": [
    "### 1.10 Classes and Objects"
   ]
  },
  {
   "cell_type": "markdown",
   "metadata": {
    "id": "DfXHPIwuz9X2"
   },
   "source": [
    "We have a class defined for vehicles. Create two new vehicles called `car1` and `car2`. Set `car1` to be a red convertible worth \\$60,000.00 with a name of Fer, and `car2` to be a blue van named Jump worth \\$10,000.00."
   ]
  },
  {
   "cell_type": "code",
   "execution_count": 83,
   "metadata": {
    "id": "s6jjGTzeNhT8"
   },
   "outputs": [
    {
     "name": "stdout",
     "output_type": "stream",
     "text": [
      "Fer is a red convertible worth $60000.00.\n",
      "Jump is a blue van worth $10000.00.\n"
     ]
    }
   ],
   "source": [
    "# define the Vehicle class\n",
    "class Vehicle:\n",
    "    def __init__(self, name, kind, color, value):\n",
    "        self.name = name\n",
    "        self.kind = kind\n",
    "        self.color = color\n",
    "        self.value = value\n",
    "\n",
    "    def description(self):\n",
    "        desc_str = \"%s is a %s %s worth $%.2f.\" % (self.name, self.color, self.kind, self.value)\n",
    "        return desc_str\n",
    "\n",
    "\n",
    "# TODO: create two instances of Vehicle\n",
    "car1 = Vehicle('Fer', 'convertible', 'red', 60000)\n",
    "car2 = Vehicle('Jump', 'van', 'blue', 10000)\n",
    "# test code\n",
    "print(car1.description())\n",
    "print(car2.description())"
   ]
  },
  {
   "cell_type": "markdown",
   "metadata": {
    "id": "b4s5hZ2nNhT8"
   },
   "source": [
    "### 1.11 Dictionaries"
   ]
  },
  {
   "cell_type": "markdown",
   "metadata": {
    "id": "lm4R2zUw0zkB"
   },
   "source": [
    "Add \"Jake\" to the `phonebook` with the phone number 938273443, and remove Jill from the `phonebook`."
   ]
  },
  {
   "cell_type": "code",
   "execution_count": 94,
   "metadata": {
    "id": "l4hj8nm0NhT8"
   },
   "outputs": [
    {
     "name": "stdout",
     "output_type": "stream",
     "text": [
      "John : 938477566\n",
      "Jack : 938377264\n",
      "Jake : 938273443\n"
     ]
    }
   ],
   "source": [
    "phonebook = {\n",
    "    \"John\" : 938477566,\n",
    "    \"Jack\" : 938377264,\n",
    "    \"Jill\" : 947662781\n",
    "}\n",
    "\n",
    "# TODO: add the given item\n",
    "phonebook[\"Jake\"] = 938273443\n",
    "\n",
    "# TODO: remove the specific item\n",
    "del phonebook[\"Jill\"]\n",
    "\n",
    "# TODO: loop through the modifed dict and print out each key-value pair\n",
    "for x,y in phonebook.items():\n",
    "    print(x,\":\",y)"
   ]
  },
  {
   "cell_type": "markdown",
   "metadata": {
    "id": "7FRBQiu0NhT9"
   },
   "source": [
    "### 1.12 Modules and Packages"
   ]
  },
  {
   "cell_type": "markdown",
   "metadata": {
    "id": "yb8e6ICK15KM"
   },
   "source": [
    "Print an alphabetically sorted list of all functions in the `re` module, which contain the word `find`."
   ]
  },
  {
   "cell_type": "code",
   "execution_count": 124,
   "metadata": {
    "id": "u7mLYDF9NhT9"
   },
   "outputs": [
    {
     "data": {
      "text/plain": [
       "['findall', 'finditer']"
      ]
     },
     "execution_count": 124,
     "metadata": {},
     "output_type": "execute_result"
    }
   ],
   "source": [
    "import re\n",
    "\n",
    "\n",
    "# TODO: write your code here\n",
    "functions_list = []\n",
    "for i in dir(re):                     # dir(re) function is used to return the list of all the fuctions in re module\n",
    "    if \"find\" in i:                   # To find and add the words starting with \"find\" we use if condition\n",
    "        functions_list.append(i)      # Add the words to the list\n",
    "sorted(functions_list)                # Sorted is used to sort the list alphabetically"
   ]
  },
  {
   "cell_type": "markdown",
   "metadata": {
    "id": "GGS7fpTsNhT9"
   },
   "source": [
    "### 1.13 Numpy"
   ]
  },
  {
   "cell_type": "markdown",
   "metadata": {
    "id": "8FjSrCEP2aqb"
   },
   "source": [
    "1. Convert the list of weights from a list to a Numpy array. \n",
    "2. Convert all of the weights from kilograms to pounds. Use the scalar conversion of 2.2 lbs per kilogram to make your conversion. \n",
    "3. Print the resulting array of weights in pounds."
   ]
  },
  {
   "cell_type": "code",
   "execution_count": 7,
   "metadata": {
    "id": "pX-DUasvNhT9"
   },
   "outputs": [
    {
     "name": "stdout",
     "output_type": "stream",
     "text": [
      "[179.63  214.544 209.55  204.556 189.596 194.59 ]\n"
     ]
    }
   ],
   "source": [
    "import numpy as np\n",
    "\n",
    "\n",
    "weight_kg = [81.65, 97.52, 95.25, 92.98, 86.18, 88.45]\n",
    "\n",
    "# TODO: create a numpy array np_weight_kg from weight_kg\n",
    "# np.array command creates a numpy array of the list\n",
    "np_weight_kg = np.array(weight_kg)\n",
    "\n",
    "# TODO: create np_weight_lbs from np_weight_kg\n",
    "# Multiplyig weight in kg with 2.2 to convert it to pounds(lbs)\n",
    "np_weight_lbs = np_weight_kg*2.2\n",
    "\n",
    "# TODO: print out np_weight_lbs\n",
    "print(np_weight_lbs)"
   ]
  },
  {
   "cell_type": "markdown",
   "metadata": {
    "id": "OHRtRRAR22lL"
   },
   "source": [
    "### 1.14 Matplotlib"
   ]
  },
  {
   "cell_type": "markdown",
   "metadata": {
    "id": "wqqjSKuG253c"
   },
   "source": [
    "In this exercise, you will practice using the package of matplotlib to visualize your data in Python. Please draw the same plot like the following one.\n",
    "\n",
    "![image.png](data:image/png;base64,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)\n",
    "\n",
    "**Requirements:**\n",
    "1. The size of the figure should be 12 inches by 4 inches.\n",
    "2. The marker in the scatter plot should be '^' with the size of 10 and the color of blue.\n",
    "3. The curves in the second plot have width of 2 and colors of gray and red respectively."
   ]
  },
  {
   "cell_type": "code",
   "execution_count": 62,
   "metadata": {
    "id": "K3snEGRN3p_m"
   },
   "outputs": [
    {
     "data": {
      "image/png": "[encoded data removed]",
      "text/plain": [
       "<Figure size 864x288 with 1 Axes>"
      ]
     },
     "metadata": {
      "needs_background": "light"
     },
     "output_type": "display_data"
    },
    {
     "data": {
      "image/png": "[encoded data removed]",
      "text/plain": [
       "<Figure size 864x288 with 1 Axes>"
      ]
     },
     "metadata": {
      "needs_background": "light"
     },
     "output_type": "display_data"
    }
   ],
   "source": [
    "import matplotlib.pyplot as plt\n",
    "import numpy as np\n",
    "\n",
    "%matplotlib inline\n",
    "\n",
    "\n",
    "# Init\n",
    "x = np.linspace(0, 10, 100)\n",
    "y = np.sin(x)\n",
    "z = np.cos(x)\n",
    "\n",
    "# TODO: write your code here\n",
    "# Scatter plot of y vs x\n",
    "# Figure size 12 inches by 4 inches\n",
    "plt.figure(figsize=(12,4))\n",
    "# Plot is sctter plot with required requirements. Here, s is the marker size, marker means marker type, and edge color is the color of edge\n",
    "plt.scatter(x,y,s=10, edgecolor='blue',marker=\"^\")\n",
    "# X-axis label\n",
    "plt.xlabel('x')\n",
    "# Y-axis label\n",
    "plt.ylabel('y')\n",
    "# To show grids in the background of the plot\n",
    "plt.grid()\n",
    "# To show the plot\n",
    "plt.show()                                             \n",
    "\n",
    "# Figure size 12 inches by 4 inches\n",
    "plt.figure(figsize=(12,4)) \n",
    "# Plot of y vs x with linewideth=2, line color =gray, line style= \"--\"(dashed line) and label=sin(x)\n",
    "plt.plot(x,y, linewidth=2, color='gray',linestyle='--',label=\"sin(x)\")\n",
    "# Plot of z vs x with linewideth=2, line color =red, line style= \"-\"(line) and label=cos(x)\n",
    "plt.plot(x,z, linewidth=2, color='red',linestyle='-',label=\"cos(x)\")\n",
    "# X-axis label\n",
    "plt.xlabel('x')\n",
    "# Y-axis label\n",
    "plt.ylabel('y')\n",
    "# To show legend and loc stands for location of the legend and 3 means the location is lower left side of the plot\n",
    "plt.legend(loc=3)\n",
    "# To show grids in the background of the plot\n",
    "plt.grid()\n",
    "# To show the plot\n",
    "plt.show()"
   ]
  },
  {
   "cell_type": "markdown",
   "metadata": {
    "id": "EDM5Ymp8NhT9"
   },
   "source": [
    "## 2. Matrix\n",
    "### 2.1 Matrix basics\n",
    "Given: \n",
    "$$ A = \n",
    " \\left[\n",
    " \\begin{matrix}\n",
    "   1 & 2 & 3 \\\\\n",
    "   4 & 5 & 6 \\\\\n",
    "   7 & 8 & 9\n",
    "  \\end{matrix}\n",
    "  \\right]\n",
    "$$\n",
    "\n",
    "$$\n",
    "B = \n",
    " \\left[\n",
    " \\begin{matrix}\n",
    "   1 & 2 & 3 \\\\\n",
    "   4 & 5 & 6 \\\\\n",
    "   7 & 8 & 9\n",
    "  \\end{matrix}\n",
    "  \\right]\n",
    "$$\n",
    "\n",
    "$$ C_1 = [1, 2, 3], C_2 = [4, 5, 6], C_3 = [7, 8, 9]$$\n",
    "\n",
    "1) Compute Hadamard product (element-wise product) of $A$ and $B$\n",
    "\n",
    "2) Compute dot product of $A$ and $B$\n",
    "\n",
    "3) Compute Frobenius Norm of $A$ (use loop)\n",
    "\n",
    "4) Compute the sum of all the elements of $A$ by using np.sum()\n",
    "\n",
    "5) Concatenate $C_1, C_2, C_3$ as a new matrix $C$ with shape of 3 by 3 by using np.concatenate() and np.vstack() \n",
    "\n",
    "6) Reshape $C$ into a 1 by 9 vector by using np.reshape()\n",
    "\n"
   ]
  },
  {
   "cell_type": "code",
   "execution_count": 106,
   "metadata": {
    "id": "TY2zXQo0NhT9"
   },
   "outputs": [
    {
     "name": "stdout",
     "output_type": "stream",
     "text": [
      "The element-wise product of A and B =\n",
      " [[ 1  4  9]\n",
      " [16 25 36]\n",
      " [49 64 81]]\n",
      "The dot product of A and B =\n",
      " [[ 30  36  42]\n",
      " [ 66  81  96]\n",
      " [102 126 150]]\n",
      "Frobenius Norm of 𝐴 = 16.881943016134134\n",
      "The sum of all entries of A = 45\n",
      "[1 2 3 4 5 6 7 8 9]\n",
      "[[1 2 3]\n",
      " [4 5 6]\n",
      " [7 8 9]]\n",
      "[[1 2 3 4 5 6 7 8 9]]\n"
     ]
    }
   ],
   "source": [
    "A = np.arange(1, 10, 1).reshape(3, 3)\n",
    "B = np.arange(1, 10, 1).reshape(3, 3)\n",
    "C1 = np.copy(A[0])\n",
    "C2 = np.copy(A[1])\n",
    "C3 = np.copy(A[2])\n",
    "\n",
    "# TODO: element-wise product of A and B\n",
    "elem_wise_product = np.multiply(A,B)\n",
    "print(\"The element-wise product of A and B =\\n\",elem_wise_product)\n",
    "\n",
    "# TODO: dot product of A and B\n",
    "dot_product = np.dot(A,B)\n",
    "print(\"The dot product of A and B =\\n\",dot_product)\n",
    "\n",
    "# TODO: Frobenius norm of A (use loop)\n",
    "# Defining a function\n",
    "def frobeniusnorm(A):\n",
    "    sum_sq = 0\n",
    "    for i in range(3):\n",
    "        for j in range(3):\n",
    "            sum_sq += np.power(A[i][j],2)\n",
    "    fro_A = np.sqrt(sum_sq)\n",
    "    return fro_A\n",
    "print(f\"Frobenius Norm of 𝐴 = {frobeniusnorm(A)}\")\n",
    "    \n",
    "\n",
    "# TODO: compute the sum of all entries of A\n",
    "sum_A = np.sum(A)\n",
    "print(\"The sum of all entries of A =\",sum_A)\n",
    "\n",
    "# TODO: concatenate\n",
    "C = np.concatenate((C1, C2, C3), axis=0)\n",
    "print(C)\n",
    "C = np.vstack((C1,C2,C3))\n",
    "print(C)\n",
    "# TODO: reshape\n",
    "print(np.reshape(C,(1,9)))"
   ]
  },
  {
   "cell_type": "markdown",
   "metadata": {
    "id": "v00MAyLnNhT9",
    "tags": []
   },
   "source": [
    "### 2.2 Numpy function vs. Loop\n",
    "In this section you need to generate two 100 by 100 matrix $D$ and $E$ with random integer elements within 1~9. \n",
    "\n",
    "1) Compute Hadamard product (element-wise product) of $D$ and $E$ by using numpy embeded function and print the computation time.\n",
    "\n",
    "2) Compute Hadamard product (element-wise product) of $D$ and $E$ by using for loop and print the computation time.\n",
    "\n",
    "3) Describe what do you find by checking the computational time of two methods. Which of the methods takes more time?"
   ]
  },
  {
   "cell_type": "code",
   "execution_count": 144,
   "metadata": {
    "id": "XTCIEaZINhT-"
   },
   "outputs": [
    {
     "name": "stdout",
     "output_type": "stream",
     "text": [
      "[[48 42 24 ...  4 14  3]\n",
      " [12 20  7 ...  6 18  2]\n",
      " [12 16  3 ... 12  6 18]\n",
      " ...\n",
      " [12 12  8 ... 28  5 18]\n",
      " [42 20 30 ... 36 15 15]\n",
      " [ 4  8  9 ... 16 18 32]]\n",
      "The computation time for numpy embeded function is 0.0010082721710205078 secs\n",
      "[[48. 42. 24. ...  4. 14.  3.]\n",
      " [12. 20.  7. ...  6. 18.  2.]\n",
      " [12. 16.  3. ... 12.  6. 18.]\n",
      " ...\n",
      " [12. 12.  8. ... 28.  5. 18.]\n",
      " [42. 20. 30. ... 36. 15. 15.]\n",
      " [ 4.  8.  9. ... 16. 18. 32.]]\n",
      "The computation time for for-loop is 0.0071451663970947266 secs\n"
     ]
    }
   ],
   "source": [
    "import time\n",
    "\n",
    "# TODO: generate D and E\n",
    "D = np.random.randint(low=1,high=9,size=(100,100))\n",
    "E = np.random.randint(low=1,high=9,size=(100,100))\n",
    "\n",
    "# TODO: element-wise product of D and E\n",
    "# Using time.time() function to compute time\n",
    "# Take the start time\n",
    "start_time = time.time()\n",
    "# Using numpy built in fuction to carryout element wise multiplication\n",
    "element_wise_product = np.multiply(D,E)\n",
    "print(element_wise_product)\n",
    "# Take the stop time of computation\n",
    "stop_time = time.time()\n",
    "# The difference of stop and start time gives us the actual computation time of the function.\n",
    "computation_time_numpy = stop_time-start_time\n",
    "print(f\"The computation time for numpy embeded function is {computation_time_numpy} secs\")\n",
    "\n",
    "# TODO: print out the computation time\n",
    "# Using time.time() function to compute time\n",
    "# Take the start time\n",
    "start = time.time()\n",
    "# So first make a matrix of zeros of dimension 100x100 named product_DE to store the product of matrix D and E in it\n",
    "product_DE = np.zeros([D.shape[0],E.shape[1]])\n",
    "# We want to multiply D(mxn) (here m=rows, n=columns) matrix with E(nxm) (here n=rows, m=columns) matrix so, \n",
    "# we want final matrix DE(mxn), \n",
    "# We use for loop and in 1st for loop we take all elements from rows of either D or E matrix\n",
    "for i in range(D.shape[0]):\n",
    "# We use for loop and in 1st for loop we take all elements from columns of the same matrix as taken for rows.\n",
    "    for j in range(D.shape[1]):\n",
    "# Taking the product of each element and putting it in product_DE\n",
    "        product_DE[i][j] = D[i][j] * E[i][j]\n",
    "print(product_DE)\n",
    "# Take the stop time of computation\n",
    "stop = time.time()\n",
    "# The difference of stop and start time gives us the actual computation time of the function.\n",
    "computation_time_for_loop = float(stop-start)          \n",
    "print(f\"The computation time for for-loop is {computation_time_for_loop} secs\")    \n",
    "\n",
    "# Ans3) After checking the computation time of both the methods we can say that for-loop method takes \n",
    "# more time to compute and numpy method is much faster than the for-loop method."
   ]
  },
  {
   "cell_type": "markdown",
   "metadata": {
    "id": "Vnx3YzlbNhT-"
   },
   "source": [
    "### 2.3 Dropout Matrix\n",
    "Write a function `rand_matrix()` that will generate an $n\\times m$ matrix of 0's and 1's taking a probability value p as input (0~1). In the matrix, there should be $n*m*p$ 1's in random positions. For example if n= 10 and m= 20 and p =0.2, then there should be roughly 40 1's in the overall matrix at random locations. All other entries should be 0's in the matrix. \n",
    "\n",
    "**Hint:** $n*m*p$ might not be a integer, you should round it to a integer."
   ]
  },
  {
   "cell_type": "code",
   "execution_count": 99,
   "metadata": {
    "id": "rp7oVRjaNhT-"
   },
   "outputs": [
    {
     "ename": "TypeError",
     "evalue": "'NoneType' object does not support item assignment",
     "output_type": "error",
     "traceback": [
      "\u001b[1;31m---------------------------------------------------------------------------\u001b[0m",
      "\u001b[1;31mTypeError\u001b[0m                                 Traceback (most recent call last)",
      "\u001b[1;32m~\\AppData\\Local\\Temp/ipykernel_22064/2584815777.py\u001b[0m in \u001b[0;36m<module>\u001b[1;34m\u001b[0m\n\u001b[0;32m     42\u001b[0m \u001b[0mp\u001b[0m \u001b[1;33m=\u001b[0m \u001b[1;36m0.15\u001b[0m\u001b[1;33m\u001b[0m\u001b[1;33m\u001b[0m\u001b[0m\n\u001b[0;32m     43\u001b[0m \u001b[1;33m\u001b[0m\u001b[0m\n\u001b[1;32m---> 44\u001b[1;33m \u001b[0mgenerated_matrix\u001b[0m \u001b[1;33m=\u001b[0m \u001b[0mrand_matrix\u001b[0m\u001b[1;33m(\u001b[0m\u001b[0mn\u001b[0m\u001b[1;33m,\u001b[0m \u001b[0mm\u001b[0m\u001b[1;33m,\u001b[0m \u001b[0mp\u001b[0m\u001b[1;33m)\u001b[0m\u001b[1;33m\u001b[0m\u001b[1;33m\u001b[0m\u001b[0m\n\u001b[0m\u001b[0;32m     45\u001b[0m \u001b[1;32mif\u001b[0m \u001b[0mnp\u001b[0m\u001b[1;33m.\u001b[0m\u001b[0msum\u001b[0m\u001b[1;33m(\u001b[0m\u001b[0mgenerated_matrix\u001b[0m\u001b[1;33m)\u001b[0m \u001b[1;33m==\u001b[0m \u001b[0mint\u001b[0m\u001b[1;33m(\u001b[0m\u001b[0mn\u001b[0m\u001b[1;33m*\u001b[0m\u001b[0mm\u001b[0m\u001b[1;33m*\u001b[0m\u001b[0mp\u001b[0m\u001b[1;33m)\u001b[0m\u001b[1;33m:\u001b[0m\u001b[1;33m\u001b[0m\u001b[1;33m\u001b[0m\u001b[0m\n\u001b[0;32m     46\u001b[0m     \u001b[0mprint\u001b[0m\u001b[1;33m(\u001b[0m\u001b[1;34m\"Great\"\u001b[0m\u001b[1;33m)\u001b[0m\u001b[1;33m\u001b[0m\u001b[1;33m\u001b[0m\u001b[0m\n",
      "\u001b[1;32m~\\AppData\\Local\\Temp/ipykernel_22064/2584815777.py\u001b[0m in \u001b[0;36mrand_matrix\u001b[1;34m(n, m, p)\u001b[0m\n\u001b[0;32m     32\u001b[0m \u001b[1;31m# Randomly setting matrix element value to one\u001b[0m\u001b[1;33m\u001b[0m\u001b[1;33m\u001b[0m\u001b[1;33m\u001b[0m\u001b[0m\n\u001b[0;32m     33\u001b[0m     \u001b[1;32mfor\u001b[0m \u001b[0mi\u001b[0m \u001b[1;32min\u001b[0m \u001b[0mindices\u001b[0m\u001b[1;33m:\u001b[0m\u001b[1;33m\u001b[0m\u001b[1;33m\u001b[0m\u001b[0m\n\u001b[1;32m---> 34\u001b[1;33m         \u001b[0mgenerated_matrix\u001b[0m\u001b[1;33m[\u001b[0m\u001b[0mposition_list\u001b[0m\u001b[1;33m[\u001b[0m\u001b[0mi\u001b[0m\u001b[1;33m]\u001b[0m\u001b[1;33m]\u001b[0m \u001b[1;33m=\u001b[0m \u001b[1;36m1\u001b[0m\u001b[1;33m\u001b[0m\u001b[1;33m\u001b[0m\u001b[0m\n\u001b[0m\u001b[0;32m     35\u001b[0m     \u001b[1;32mreturn\u001b[0m \u001b[0mgenerated_matrix\u001b[0m\u001b[1;33m\u001b[0m\u001b[1;33m\u001b[0m\u001b[0m\n\u001b[0;32m     36\u001b[0m \u001b[1;33m\u001b[0m\u001b[0m\n",
      "\u001b[1;31mTypeError\u001b[0m: 'NoneType' object does not support item assignment"
     ]
    }
   ],
   "source": [
    "def rand_matrix(n, m, p):\n",
    "    \"\"\"\n",
    "        Return an n by m matrix of 0's and 1's taking a probability value\n",
    "        \n",
    "        Parameters\n",
    "        ----------\n",
    "        n: int\n",
    "            The number of rows in the generated matrix.\n",
    "        m: int\n",
    "            The number of columns in the generated matrix.\n",
    "        p: float\n",
    "            The probability that the entry is 1.\n",
    "\n",
    "        Return\n",
    "        ----------\n",
    "        matrix: ndarray\n",
    "            An n by m matrix of 0's and 1's\n",
    "    \"\"\"\n",
    "# TODO: write your code here\n",
    "# Probability to put 1's at random position in a matrix\n",
    "    ones_mat = int(n*m*p)\n",
    "# An empty list to store the element position which further can be used to replace the value with 1 \n",
    "    position_list = []\n",
    "# Taking out the position of each element matrix and making a list of it using append (i=rows,j=column)\n",
    "    for i in range(n):\n",
    "        for j in range(m):\n",
    "                position_list.append((i,j))\n",
    "# # Returns an array of evenly spaced indices\n",
    "    vect_indices = np.arange(0, n*m, step=1) \n",
    "# Selecting elements randomly using list of element position\n",
    "    indices = np.random.choice(vect_indices,size=ones_mat, replace=False)\n",
    "# Randomly setting matrix element value to one\n",
    "    for i in indices:\n",
    "        generated_matrix[position_list[i]] = 1                \n",
    "    return generated_matrix\n",
    "    \n",
    "\n",
    "\n",
    "# test code\n",
    "n = 50\n",
    "m = 50\n",
    "p = 0.15\n",
    "\n",
    "generated_matrix = rand_matrix(n, m, p)\n",
    "if np.sum(generated_matrix) == int(n*m*p):\n",
    "    print(\"Great\")\n",
    "\n",
    "print(generated_matrix)"
   ]
  },
  {
   "cell_type": "markdown",
   "metadata": {
    "id": "hZUwJG2fHFmf"
   },
   "source": [
    "## 3 Algorithms and Statistics"
   ]
  },
  {
   "cell_type": "markdown",
   "metadata": {
    "id": "YWJ7UgE9HJX9"
   },
   "source": [
    "### 3.1 Basic\n",
    "\n",
    "1) Generate a vector of size 10 with entries drawing from a standard Gaussian distribution.\n",
    "\n",
    "2) Generate a matrix of size 10 by 5 with entries drawing from a standard Gaussian distribution."
   ]
  },
  {
   "cell_type": "code",
   "execution_count": null,
   "metadata": {
    "id": "wzl_auD8HP_I"
   },
   "outputs": [],
   "source": [
    "# TODO: generate a random Gaussian vector\n",
    "mu = 0\n",
    "sigma = 1\n",
    "vect = np.random.normal(mu, sigma, 10)\n",
    "print(vect)\n",
    "\n",
    "# TODO: generate a random Gaussian matrix\n",
    "mu = 2\n",
    "sigma = 6\n",
    "mat = np.random.normal(mu, sigma, (10, 5))\n",
    "print(mat)"
   ]
  },
  {
   "cell_type": "markdown",
   "metadata": {},
   "source": [
    "### 3.2 Collatz Conjecture\n",
    "\n",
    "Write a function that starts with a number n > 1. Find the number of steps it takes to reach one using the following process: If n is even, divide it by 2. If n is odd, multiply it by 3 and add 1. Print the number of steps for the given number."
   ]
  },
  {
   "cell_type": "code",
   "execution_count": 111,
   "metadata": {},
   "outputs": [
    {
     "name": "stdout",
     "output_type": "stream",
     "text": [
      "Great\n"
     ]
    }
   ],
   "source": [
    "def Collatz_Conjecture(n):\n",
    "    \"\"\"\n",
    "        Return the number of steps to reach 1 using the Collatz conjecture.\n",
    "        \n",
    "        Parameters\n",
    "        ----------\n",
    "        n: int\n",
    "            The starting number.\n",
    "\n",
    "        Return\n",
    "        ----------\n",
    "        n_steps: int\n",
    "            The number of steps to reach 1\n",
    "    \"\"\"\n",
    "    # TODO: write your code here\n",
    "    number_of_steps = 0\n",
    "    while n>1:\n",
    "        if n %2 == 0:\n",
    "            n /= 2\n",
    "            number_of_steps += 1\n",
    "        else:\n",
    "            n = (n*3)+1\n",
    "            number_of_steps += 1\n",
    "    return number_of_steps\n",
    "# test code\n",
    "n = 27\n",
    "\n",
    "n_steps = Collatz_Conjecture(n)\n",
    "if n_steps == 111:    \n",
    "    print(\"Great\")\n",
    "else:\n",
    "    print(\"The number of steps is %d\"%n_steps)\n"
   ]
  },
  {
   "cell_type": "markdown",
   "metadata": {
    "id": "GHpMpta0NhT-"
   },
   "source": [
    "### 3.3 Covid-19 \n",
    "Given the covid-19 daily positive increase data (see the code below, first column is the date, second column is the positive increase number) from Mar. 1st 2020 to Jan. 7th 2021. \n",
    "Hint: In the following code, the data reader will generate a list (data) with 313 elements, each element has two subelements: date and positiveIncrease. You can either use list operation or numpy package to deal with your data.\n",
    "\n",
    "1) Generate a bar plot of the positive increase number. \n",
    "\n",
    "2) Find mean and variance of covid-19 dataset.\n",
    "\n",
    "3) Define a function `moving_avg(data, n)` for the Moving Average calculation, where n is the past number of days. Use the function to generate the results for n=7 on covid-19 dataset and plot the curve.\n",
    "\n",
    "4) Define a function `EWMA(data, alpha)` for the Exponential Weighted Moving Average calculation, where alpha is the degree of weighting decrease coefficient. Use the function to generate the results for alpha=0.9 on covid-19 dataset and plot the curve.\n",
    "\n",
    "**Requirements for the plot:** \n",
    "1. Add the title, axis labels, legend for the figures. \n",
    "2. x axis is the time (simply use integers start from 0), y axis is the positive increase number. \n",
    "3. You should have two figures: \n",
    "  * Bar plot only\n",
    "  * Bar plot, moving average curve and exponential weighted moving average curve together\n",
    "\n",
    "**Hint:** Please find detail of Moving Average and Exponential Weighted Moving Average in the link: https://en.wikipedia.org/wiki/Moving_average\n"
   ]
  },
  {
   "cell_type": "code",
   "execution_count": 98,
   "metadata": {
    "colab": {
     "base_uri": "https://localhost:8080/"
    },
    "executionInfo": {
     "elapsed": 398,
     "status": "ok",
     "timestamp": 1610152535402,
     "user": {
      "displayName": "Zhibo Zhang",
      "photoUrl": "",
      "userId": "13469557936668830939"
     },
     "user_tz": 300
    },
    "id": "kDpBlgGbNhT-",
    "outputId": "40532bc9-008a-4e97-c30f-0f90cd416080"
   },
   "outputs": [
    {
     "name": "stdout",
     "output_type": "stream",
     "text": [
      "Example format of raw data: [['date', 'positiveIncrease'], ['1/7/2021', '266197']]\n"
     ]
    },
    {
     "data": {
      "image/png": "[encoded data removed]",
      "text/plain": [
       "<Figure size 720x576 with 1 Axes>"
      ]
     },
     "metadata": {
      "needs_background": "light"
     },
     "output_type": "display_data"
    },
    {
     "name": "stdout",
     "output_type": "stream",
     "text": [
      "The mean of covid-19 dataset is 68181.32587859425\n",
      "The variance of covid-19 dataset is 4187446411.3570614\n",
      "80.0\n",
      "101.29\n",
      "135.43\n",
      "185.0\n",
      "227.0\n",
      "315.14\n",
      "418.29\n",
      "543.0\n",
      "703.29\n",
      "909.43\n",
      "1152.86\n",
      "1574.86\n",
      "2134.86\n",
      "2886.43\n",
      "3728.14\n",
      "4867.43\n",
      "6219.29\n",
      "7473.14\n",
      "8792.57\n",
      "10669.0\n",
      "12541.57\n",
      "14376.29\n",
      "15861.71\n",
      "17292.57\n",
      "19305.86\n",
      "21251.57\n",
      "22733.43\n",
      "24540.57\n",
      "26445.71\n",
      "27333.0\n",
      "28339.71\n",
      "29125.14\n",
      "29801.57\n",
      "30806.29\n",
      "31042.43\n",
      "30789.29\n",
      "31123.86\n",
      "30544.43\n",
      "29888.0\n",
      "29735.71\n",
      "29225.71\n",
      "29002.0\n",
      "28523.0\n",
      "28424.29\n",
      "28676.43\n",
      "28701.14\n",
      "28599.0\n",
      "28655.29\n",
      "28976.43\n",
      "30090.71\n",
      "30057.29\n",
      "29549.43\n",
      "29428.29\n",
      "29011.29\n",
      "28733.29\n",
      "28534.0\n",
      "27594.43\n",
      "27377.57\n",
      "27354.29\n",
      "26947.71\n",
      "26802.71\n",
      "26403.71\n",
      "25602.29\n",
      "25052.29\n",
      "24382.86\n",
      "23797.29\n",
      "23802.86\n",
      "23285.29\n",
      "23211.14\n",
      "22966.29\n",
      "22740.43\n",
      "22638.14\n",
      "22998.14\n",
      "22752.14\n",
      "22709.14\n",
      "22718.57\n",
      "22526.71\n",
      "22353.29\n",
      "22167.71\n",
      "21866.0\n",
      "21298.0\n",
      "20997.43\n",
      "20426.57\n",
      "20350.71\n",
      "20503.14\n",
      "20870.0\n",
      "21093.43\n",
      "21545.86\n",
      "21687.0\n",
      "21360.14\n",
      "21282.43\n",
      "21159.14\n",
      "20797.0\n",
      "20338.29\n",
      "19911.86\n",
      "20008.0\n",
      "20237.71\n",
      "20242.43\n",
      "20632.29\n",
      "20988.14\n",
      "21194.86\n",
      "22061.14\n",
      "22505.29\n",
      "23215.86\n",
      "24332.86\n",
      "25295.29\n",
      "26380.43\n",
      "27587.57\n",
      "29096.14\n",
      "31253.43\n",
      "33052.14\n",
      "34986.86\n",
      "36540.57\n",
      "38329.0\n",
      "40115.71\n",
      "42050.71\n",
      "43772.71\n",
      "45763.86\n",
      "47151.29\n",
      "48829.71\n",
      "49347.43\n",
      "49561.0\n",
      "50132.14\n",
      "51798.57\n",
      "52601.71\n",
      "54434.29\n",
      "55558.14\n",
      "57870.57\n",
      "60201.86\n",
      "61298.0\n",
      "62221.86\n",
      "63853.29\n",
      "65193.71\n",
      "65494.29\n",
      "65892.29\n",
      "65805.43\n",
      "66410.57\n",
      "66425.14\n",
      "66548.14\n",
      "66368.57\n",
      "66374.0\n",
      "65850.14\n",
      "65570.43\n",
      "64929.14\n",
      "64177.14\n",
      "63829.14\n",
      "62778.57\n",
      "62178.71\n",
      "61123.0\n",
      "59435.0\n",
      "58407.43\n",
      "56768.14\n",
      "54617.86\n",
      "53647.86\n",
      "52626.29\n",
      "52254.57\n",
      "52054.14\n",
      "52588.86\n",
      "53089.29\n",
      "52772.0\n",
      "52221.71\n",
      "52599.71\n",
      "51412.29\n",
      "50894.0\n",
      "48765.57\n",
      "47179.0\n",
      "46057.86\n",
      "44526.57\n",
      "43090.71\n",
      "42447.29\n",
      "41995.57\n",
      "41531.43\n",
      "41421.86\n",
      "41447.0\n",
      "41418.57\n",
      "41112.0\n",
      "41247.71\n",
      "40831.14\n",
      "41611.0\n",
      "39650.43\n",
      "39743.86\n",
      "40513.29\n",
      "40643.14\n",
      "39811.43\n",
      "39305.29\n",
      "36450.0\n",
      "36469.0\n",
      "35426.29\n",
      "34443.71\n",
      "34026.57\n",
      "34241.29\n",
      "35021.71\n",
      "36804.57\n",
      "38182.43\n",
      "39036.43\n",
      "39415.71\n",
      "39916.14\n",
      "40060.29\n",
      "40862.57\n",
      "42905.57\n",
      "42768.57\n",
      "42777.0\n",
      "43911.71\n",
      "44147.86\n",
      "44074.14\n",
      "43525.14\n",
      "41779.29\n",
      "42559.29\n",
      "42893.86\n",
      "42044.0\n",
      "42591.86\n",
      "43036.71\n",
      "43388.29\n",
      "43669.57\n",
      "44582.29\n",
      "45959.57\n",
      "47037.57\n",
      "47996.57\n",
      "49212.86\n",
      "49975.71\n",
      "51151.29\n",
      "52021.0\n",
      "53182.43\n",
      "54843.71\n",
      "54845.43\n",
      "55017.14\n",
      "57100.57\n",
      "59038.71\n",
      "59662.71\n",
      "61070.29\n",
      "63098.29\n",
      "66812.43\n",
      "69191.0\n",
      "70006.29\n",
      "71668.86\n",
      "74250.71\n",
      "76540.86\n",
      "78716.14\n",
      "79799.71\n",
      "90872.14\n",
      "93742.43\n",
      "96264.29\n",
      "99901.86\n",
      "104085.57\n",
      "108504.43\n",
      "114306.86\n",
      "110048.57\n",
      "114989.29\n",
      "121164.29\n",
      "127396.71\n",
      "132897.86\n",
      "139326.14\n",
      "144377.43\n",
      "149316.0\n",
      "153821.0\n",
      "157537.43\n",
      "160238.86\n",
      "164520.29\n",
      "167761.57\n",
      "170073.86\n",
      "171093.0\n",
      "171754.0\n",
      "172597.29\n",
      "175468.57\n",
      "167200.29\n",
      "167341.71\n",
      "162844.57\n",
      "160424.86\n",
      "159706.43\n",
      "161700.86\n",
      "163726.86\n",
      "175870.57\n",
      "180495.29\n",
      "189851.0\n",
      "196264.0\n",
      "200878.14\n",
      "206150.43\n",
      "207985.0\n",
      "208732.0\n",
      "209524.43\n",
      "210627.57\n",
      "211279.0\n",
      "212920.86\n",
      "209287.0\n",
      "211776.57\n",
      "214802.43\n",
      "215415.71\n",
      "212323.71\n",
      "213783.0\n",
      "211740.29\n",
      "211755.57\n",
      "210210.86\n",
      "204987.86\n",
      "188719.0\n",
      "186768.43\n",
      "180653.57\n",
      "178375.43\n",
      "179135.29\n",
      "179817.29\n",
      "182588.86\n",
      "190354.0\n",
      "203088.57\n",
      "210856.43\n",
      "212997.86\n",
      "215779.14\n",
      "218854.43\n",
      "224932.29\n"
     ]
    },
    {
     "data": {
      "image/png": "[encoded data removed]",
      "text/plain": [
       "<Figure size 720x576 with 1 Axes>"
      ]
     },
     "metadata": {
      "needs_background": "light"
     },
     "output_type": "display_data"
    }
   ],
   "source": [
    "import csv\n",
    "import numpy as np\n",
    "import matplotlib.pyplot as plt\n",
    "\n",
    "%matplotlib inline\n",
    "\n",
    "# data reader\n",
    "with open('covid.csv', newline='') as f:\n",
    "    reader = csv.reader(f)\n",
    "    raw_data = list(reader)\n",
    "    print('Example format of raw data:', raw_data[0:2])\n",
    "\n",
    "\n",
    "# TODO: data preprocessing \n",
    "# Converting the list of data to array\n",
    "myarray = np.array(raw_data)\n",
    "# Sorting out the list of dates and daily positive increase cases from the raw data file (csv file)\n",
    "dates = myarray[:,0]\n",
    "daily_inc_data = myarray[:,1]\n",
    "# Skipping the 1st row of daily increase case as it has the title and no value of cases\n",
    "total_daily_inc_data = daily_inc_data[1:]\n",
    "# Making an empty list to fill in the list of daily positive increase cases numbers \n",
    "total_daily_pos_inc = []\n",
    "# USing for loop to convert the string in the list to integer values which we can use to plot the graphs \n",
    "# and find mean and variance\n",
    "for i in range(0, len(total_daily_inc_data)):\n",
    "       total_daily_pos_inc.append( int(total_daily_inc_data[i]))\n",
    "# Reversing the list of integers as it starts from Jan.7th 2021 and flows in past which we have to change \n",
    "# and make the list start from Mar.1st 2020 to Jan.7th 2021\n",
    "total_daily_inc_num_data = total_daily_pos_inc[::-1]\n",
    "\n",
    "\n",
    "# TODO: generate the positive increase number bar plot\n",
    "x = list(range(0,len(total_daily_inc_num_data)))\n",
    "plt.figure(figsize=(10,8))\n",
    "# To plot the data in bar plot   \n",
    "plt.bar(x, total_daily_inc_num_data, color='red')     \n",
    "plt.title(\"Covid-19 cases from Mar. 1st 2020 to Jan. 7th 2021\")\n",
    "plt.xlabel(\"Date\")\n",
    "plt.ylabel(\"Daily positive increase cases\")\n",
    "# Show the plot\n",
    "plt.show()\n",
    "\n",
    "\n",
    "# TODO: find mean and variance \n",
    "mean = np.mean(total_daily_inc_num_data)\n",
    "print(f'The mean of covid-19 dataset is {mean}')\n",
    "variance = np.var(total_daily_inc_num_data)\n",
    "print(f'The variance of covid-19 dataset is {variance}')\n",
    "\n",
    "\n",
    "# TODO: define the function moving_avg(data, n) and find the moving average for 7 days\n",
    "def moving_avg(data, n):\n",
    "    res = []\n",
    "# length of (data)-n+1\n",
    "    for i in range(len(data)-n+1):\n",
    "        data_point = round(np.sum(data[i:i+n])/n,2)\n",
    "        res.append(data_point)\n",
    "    return res   \n",
    "moving_avg_7_days = moving_avg(total_daily_inc_num_data, 7)  \n",
    "# def moving_avg(data, n):\n",
    "    \n",
    "\n",
    "# TODO: define the function EWMA(data, alpha) and calculate the exponential weighted moving average when alpha=0.9\n",
    "def EWMA(data, alpha):\n",
    "    res = [data[0]]\n",
    "    for i in range(1, len(data)):\n",
    "        st = alpha*data[i]+(1-alpha)*res[i-1]\n",
    "        res.append(st)\n",
    "    return res\n",
    "ewma_data = EWMA(total_daily_inc_num_data, alpha=0.9)\n",
    "    \n",
    "    \n",
    "\n",
    "# TODO: plot the positive increase number curve for moving average results and exponential weighted moving average results\n",
    "plt.figure(figsize=(10,8))\n",
    "# Plotting the data in bar plot\n",
    "plt.bar(x, total_daily_inc_num_data, color='red', label=\"positive increase bar plot\")     \n",
    "plt.plot(moving_avg_7_days, linewidth=2, color='blue', label=\"moving average for 7 days curve\")\n",
    "plt.plot(ewma_data, linewidth=2, color='green',label=\"exponential weighted moving average curve\")\n",
    "plt.title(\"Covid-19 cases from Mar. 1st 2020 to Jan. 7th 2021\")\n",
    "plt.xlabel(\"Date\")\n",
    "plt.ylabel(\"Daily positive increase cases\")\n",
    "plt.legend(loc=2)\n",
    "# Show the plot\n",
    "plt.show()"
   ]
  },
  {
   "cell_type": "code",
   "execution_count": null,
   "metadata": {},
   "outputs": [],
   "source": []
  }
 ],
 "metadata": {
  "colab": {
   "collapsed_sections": [],
   "name": "Assignment 1.ipynb",
   "provenance": [],
   "toc_visible": true
  },
  "kernelspec": {
   "display_name": "Python 3 (ipykernel)",
   "language": "python",
   "name": "python3"
  },
  "language_info": {
   "codemirror_mode": {
    "name": "ipython",
    "version": 3
   },
   "file_extension": ".py",
   "mimetype": "text/x-python",
   "name": "python",
   "nbconvert_exporter": "python",
   "pygments_lexer": "ipython3",
   "version": "3.8.12"
  }
 },
 "nbformat": 4,
 "nbformat_minor": 4
}
